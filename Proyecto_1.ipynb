{
  "nbformat": 4,
  "nbformat_minor": 0,
  "metadata": {
    "colab": {
      "provenance": [],
      "mount_file_id": "1_J0Q054h7ANMC5QBdXFKfYBgr_vgwk6Z",
      "authorship_tag": "ABX9TyNIaAxofj3qGTu5UuwVN2tu",
      "include_colab_link": true
    },
    "kernelspec": {
      "name": "python3",
      "display_name": "Python 3"
    },
    "language_info": {
      "name": "python"
    }
  },
  "cells": [
    {
      "cell_type": "markdown",
      "metadata": {
        "id": "view-in-github",
        "colab_type": "text"
      },
      "source": [
        "<a href=\"https://colab.research.google.com/github/roccipelaez/roccipelaez/blob/main/Proyecto_1.ipynb\" target=\"_parent\"><img src=\"https://colab.research.google.com/assets/colab-badge.svg\" alt=\"Open In Colab\"/></a>"
      ]
    },
    {
      "cell_type": "code",
      "source": [],
      "metadata": {
        "id": "fKN9AafU3Qnk"
      },
      "execution_count": null,
      "outputs": []
    },
    {
      "cell_type": "code",
      "source": [
        "#Rocio Pelaez Ventura\n",
        "import numpy as np\n",
        "\n",
        "class grafica:\n",
        "  \"\"\" Definimos nuestra clase principal donde self.paginas es una lista que va\n",
        "  almacenar los nombres de las páginas y self.link almacena las conexiones entre\n",
        "  páginas\"\"\"\n",
        "  def __init__(self, datos):\n",
        "    self.paginas= []\n",
        "    self.link= {}\n",
        "    self.examina(datos)\n",
        "    self.n= len(self.paginas)\n",
        "    self.A= self.matriz()\n",
        "\n",
        "  def examina(self, datos):\n",
        "    \"\"\" Aquí examinamos los datos y llenamos la lista y diccionario de la clase\n",
        "    principal, ademas divide cada linea y ajustamos los índices\"\"\"\n",
        "    for l in datos.split('\\n')[1:]:\n",
        "      seccionar= l.split('\\t')\n",
        "      if len(seccionar) == 3:\n",
        "        pag= seccionar[0].strip()\n",
        "        self.paginas.append(pag)\n",
        "        self.link[pag]= [int(i) -1 for i in seccionar[2].split(',')]\n",
        "\n",
        "  def matriz(self):\n",
        "     \"\"\" Crea y devuelve nuestra matriz A e inicializa la matriz en ceros,\n",
        "     además distribuye la \"probabilidad\" de los links de salida \"\"\"\n",
        "     A= np.zeros((self.n, self.n))\n",
        "     for i, pag in enumerate(self.paginas):\n",
        "      if pag in self.link:\n",
        "         salida= len(self.link[pag])\n",
        "         for j in self.link[pag]:\n",
        "            if j < self.n:\n",
        "              A[j,i]= 1 / salida\n",
        "     return A\n",
        "\n",
        "  def PageRank(self, pi, d=1, c= 0.0000001, iteraciones=100):\n",
        "      \"\"\" Ejecutamos nuestro algoritmo donde pi es el vector inicial, d un\n",
        "      amortiguador y c un número pequeño para garantizar buenos resultados en\n",
        "      los datos, aquí iteramos hasta que la diferencia entre iteraciones sea\n",
        "      sea menor a c o se hagan 100 iteraciones, por último retorna el vector\n",
        "      final \"\"\"\n",
        "      for _ in range(iteraciones):\n",
        "        pos= pi @ (d*self.A+(1-d)* np.ones((self.n, self.n)) / self.n)\n",
        "        if np.sum(np.abs(pos-pi))< c:\n",
        "          return pos\n",
        "        pi= pos\n",
        "      return pi\n",
        "\n",
        "  def rank(self, pi):\n",
        "     \"\"\"Toma el vector final y devuelve una lista de tuplas de las paginas de\n",
        "     importancia\"\"\"\n",
        "     calificacion= sorted(zip(self.paginas, pi), key=lambda x: x[1], reverse=True)\n",
        "     return calificacion\n",
        "\n",
        "  def preguntas(self):\n",
        "     \"\"\"Ejecuta el código anterior para responder a las preguntas\"\"\"\n",
        "     N= np.ones(self.n) / self.n\n",
        "     P1= self.PageRank(N)\n",
        "     pag_importante= self.rank(P1)\n",
        "     print(\"PREGUNTA 1:\")\n",
        "     print(\"La pagina más importante es:\")\n",
        "     print(pag_importante[0])\n",
        "\n",
        "     valores= [0.5, 0.85, 1]\n",
        "     print(\"PREGUNTA 2:\")\n",
        "     for c in valores:\n",
        "       P3= self.PageRank(N, c)\n",
        "       mejor_pag= self.rank(P3)\n",
        "       print(c)\n",
        "       for page, s in mejor_pag[:5]:\n",
        "         print(f\"{page}: {s:.5f}\")\n",
        "\n",
        "#Implementación del main\n",
        "if __name__ == \"__main__\":\n",
        "  #Datos que se utilizan para ejecutar el código\n",
        "  datos=\"\"\"\n",
        "  PÁGINA                                  ÍNDICE   \tCITADA POR\n",
        "  nytimes.com\t                               1\t    2, 7, 11\n",
        "  washingtonpost.com\t                  2    \t1, 4, 6, 9\n",
        "  cnn.com\t                                      3\t    1, 5, 9, 11\n",
        "  foxnews.com\t                              4\t    2, 3, 8, 14\n",
        "  forbes.com\t                                  5\t    3, 12, 15\n",
        "  bloomberg.com\t                          6    \t2, 8, 13, 15\n",
        "  wsj.com\t                                          7     \t3, 9, 10\n",
        "  huffpost.com\t                              8\t   2, 4, 5, 12\n",
        "  businessinsider.com\t                  9\t   2, 3, 7, 13, 15\n",
        "  npr.org\t                                         10      4, 7, 8\n",
        "  techcrunch.com\t                          11\t   1, 3, 15\n",
        "  theverge.com\t                             12\t   5, 8, 13\n",
        "  reuters.com\t                                 13\t   1, 9, 12, 15\n",
        "  politico.com\t                                 14\t   4, 5, 6\n",
        "  mashable.com\t                             15\t   5, 6, 9, 11, 13\n",
        "  yandex.ru\t                                     16\t   17, 18, 20\n",
        "  lenta.ru\t                                         17\t   16, 19, 21\n",
        "  gazeta.ru\t                                     18\t   16, 20, 22\n",
        "  ria.ru\t                                             19\t   17, 21, 24\n",
        "  rbk.ru\t                                            20\t   16, 18, 22, 23\n",
        "  tass.ru\t                                         21\t   17, 19, 24\n",
        "  iz.ru\t                                            22\t   18, 20, 25\n",
        "  kommersant.ru\t                        23\t   20, 24, 25\n",
        "  vedomosti.ru\t                            24\t   19, 21, 23, 25\n",
        "  regnum.ru\t                                    25\t   22, 23, 24\n",
        "  federalreserve.gov\t                    26\t   1, 2, 5, 7, 9, 26\n",
        "  \"\"\"\n",
        "  #Ejecutar el código\n",
        "  graf= grafica(datos)\n",
        "  graf.preguntas()\n",
        "\n",
        "\n",
        "\n"
      ],
      "metadata": {
        "colab": {
          "base_uri": "https://localhost:8080/"
        },
        "id": "aY9cYgQKmKKV",
        "outputId": "62d0a6a2-5f67-4f4d-9ed0-40bad1dc702e"
      },
      "execution_count": 40,
      "outputs": [
        {
          "output_type": "stream",
          "name": "stdout",
          "text": [
            "PREGUNTA 1:\n",
            "La pagina más importante es:\n",
            "('nytimes.com', 0.020006027023979488)\n",
            "PREGUNTA 2:\n",
            "0.5\n",
            "nytimes.com: 0.02933\n",
            "foxnews.com: 0.02933\n",
            "washingtonpost.com: 0.02933\n",
            "cnn.com: 0.02933\n",
            "theverge.com: 0.02933\n",
            "0.85\n",
            "nytimes.com: 0.02354\n",
            "foxnews.com: 0.02354\n",
            "washingtonpost.com: 0.02353\n",
            "cnn.com: 0.02350\n",
            "huffpost.com: 0.02349\n",
            "1\n",
            "nytimes.com: 0.02001\n",
            "foxnews.com: 0.02000\n",
            "washingtonpost.com: 0.01996\n",
            "cnn.com: 0.01984\n",
            "huffpost.com: 0.01983\n"
          ]
        }
      ]
    },
    {
      "cell_type": "code",
      "source": [],
      "metadata": {
        "id": "aZ9dUHTZPlNO"
      },
      "execution_count": null,
      "outputs": []
    }
  ]
}